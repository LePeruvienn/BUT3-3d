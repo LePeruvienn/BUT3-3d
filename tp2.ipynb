{
 "cells": [
  {
   "cell_type": "markdown",
   "id": "bdcfbac5-e8f2-49e3-9ed9-85c83aba13a9",
   "metadata": {},
   "source": [
    "# TP Python : Redressement d’images"
   ]
  },
  {
   "cell_type": "code",
   "execution_count": null,
   "id": "3b1f88a1-d26c-40b5-8a93-1062fd27098a",
   "metadata": {},
   "outputs": [],
   "source": []
  }
 ],
 "metadata": {
  "kernelspec": {
   "display_name": "Python 3 (ipykernel)",
   "language": "python",
   "name": "python3"
  },
  "language_info": {
   "codemirror_mode": {
    "name": "ipython",
    "version": 3
   },
   "file_extension": ".py",
   "mimetype": "text/x-python",
   "name": "python",
   "nbconvert_exporter": "python",
   "pygments_lexer": "ipython3",
   "version": "3.12.7"
  }
 },
 "nbformat": 4,
 "nbformat_minor": 5
}
